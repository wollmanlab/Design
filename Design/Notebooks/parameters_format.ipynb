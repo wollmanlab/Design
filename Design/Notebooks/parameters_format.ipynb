{
 "cells": [
  {
   "cell_type": "code",
   "execution_count": null,
   "metadata": {
    "vscode": {
     "languageId": "plaintext"
    }
   },
   "outputs": [],
   "source": [
    "\"\"\" Set Parameters \"\"\"\n",
    "import pandas as pd\n",
    "import os\n",
    "import shutil\n",
    "user_parameters = {\n",
    "            'device': 'cpu',\n",
    "            'Verbose': 1,\n",
    "            'n_cpu': 30,\n",
    "            'n_bit': 25,\n",
    "            'n_iterations': 10000,\n",
    "            'total_n_probes': 30e4,\n",
    "            'probe_weight': 1,\n",
    "            'weight_dropout_proportion': 0.1,\n",
    "            'projection_dropout_proportion': 0.1,\n",
    "            'gene_constraint_weight': 1,\n",
    "            'target_brightness_log': 4.5,\n",
    "            'learning_rate': 0.05, \n",
    "            'learning_rate_start': 0.1,\n",
    "            'learning_rate_end': 0.01,\n",
    "            'report_freq': 500,\n",
    "            'type_correlation_mean_weight': 0,\n",
    "            'type_correlation_max_weight': 0.01,\n",
    "            'noise_level': 3,\n",
    "            'categorical_weight': 1,\n",
    "            'batch_size': 2500,\n",
    "            'use_region_info': 1, decoders (1=yes, 0=no)\n",
    "            'region_embedding_dim': -1, \n",
    "            'correlation_thresh': 0.9,\n",
    "            'pnorm_std_weight': 10,\n",
    "            'output': '/home/zach/Projects/Design/Results_2025May04_v3',\n",
    "            'input':'/home/zach/ExternalData/Allen_WMB_2024Mar06/Training_data/'\n",
    "        }\n",
    "\n",
    "if os.path.exists(user_parameters['output']):\n",
    "    shutil.rmtree(user_parameters['output'])\n",
    "pd.DataFrame(user_parameters.values(),index=user_parameters.keys(),columns=['values']).to_csv('/home/zach/Projects/Design/Results/user_parameters_best.csv')"
   ]
  }
 ],
 "metadata": {
  "language_info": {
   "name": "python"
  }
 },
 "nbformat": 4,
 "nbformat_minor": 2
}
